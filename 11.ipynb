{
 "cells": [
  {
   "cell_type": "code",
   "execution_count": null,
   "id": "d6a09cce-8665-4ca0-99df-49cdd9c417ff",
   "metadata": {},
   "outputs": [],
   "source": [
    "#ans:1=\n",
    "In Python, the built-in function used to open a file is open().\n",
    "Syntax: open(filename, mode)\n",
    "there are 6 mode which are\n",
    "r,w,a,b,x,t"
   ]
  },
  {
   "cell_type": "code",
   "execution_count": null,
   "id": "89deeeb1-644a-4e5f-a036-1bee4ec8b237",
   "metadata": {},
   "outputs": [],
   "source": [
    "#ans:2=\n",
    "In Python, the close() function is used to close an opened file. It is important to close a file after you have finished working with it,\n",
    "Save changes: If you are working with a file in write mode, any changes you make to the file will not be saved until you close the file. If you do not close the file, you risk losing your changes if the program terminates unexpectedly.\n",
    "Release resources: When you open a file, the operating system allocates certain resources to the file. If you do not close the file, those resources will remain allocated, even if you are not using the file anymore. This can cause problems if you are working with a large number of files or if other programs are running on the same system."
   ]
  },
  {
   "cell_type": "code",
   "execution_count": null,
   "id": "520f5bca-ae2d-4dcd-a82e-21c4b1b2785e",
   "metadata": {},
   "outputs": [],
   "source": [
    "#ans:3=\n",
    "# Open file in write mode\n",
    "file = open(\"data_scientist.txt\", \"w\")\n",
    "\n",
    "# Write text to file\n",
    "file.write(\"I want to become a Data Scientist\")\n",
    "\n",
    "# Close file\n",
    "file.close()\n",
    "\n",
    "# Open file in read mode\n",
    "file = open(\"data_scientist.txt\", \"r\")\n",
    "\n",
    "# Read and print file contents\n",
    "contents = file.read()\n",
    "print(contents)\n",
    "\n",
    "# Close file\n",
    "file.close()\n"
   ]
  },
  {
   "cell_type": "code",
   "execution_count": null,
   "id": "aaed1305-306b-480a-ac7e-255aadbe73d4",
   "metadata": {},
   "outputs": [],
   "source": [
    "#ans:4=\n",
    "# Open file in read mode\n",
    "file = open(\"example.txt\", \"r\")\n",
    "\n",
    "# Read entire file contents\n",
    "content = file.read()\n",
    "\n",
    "# Print file contents\n",
    "print(content)\n",
    "\n",
    "# Close file\n",
    "file.close()\n",
    "\n",
    "# Open file in read mode\n",
    "file = open(\"example.txt\", \"r\")\n",
    "\n",
    "# Read first line from file\n",
    "line = file.readline()\n",
    "\n",
    "# Print line\n",
    "print(line)\n",
    "\n",
    "# Close file\n",
    "file.close()\n",
    "\n",
    "# Open file in read mode\n",
    "file = open(\"example.txt\", \"r\")\n",
    "\n",
    "# Read all lines from file\n",
    "lines = file.readlines()\n",
    "\n",
    "# Print lines\n",
    "for line in lines:\n",
    "    print(line)\n",
    "\n",
    "# Close file\n",
    "file.close()\n"
   ]
  },
  {
   "cell_type": "code",
   "execution_count": null,
   "id": "3b988b7e-ac88-4340-bf72-ffa03500c43a",
   "metadata": {},
   "outputs": [],
   "source": [
    "#ans:5=\n",
    "In Python, the with statement is used with the open() function to automatically handle file closing and other related tasks.\n",
    "The with statement creates a block of code with a specific context, and the open() function is used to create a file object within that context. When the block of code is exited, the file is automatically closed. This is useful because it ensures that the file is closed properly, even if an exception is raised or an error occurs."
   ]
  },
  {
   "cell_type": "code",
   "execution_count": null,
   "id": "ba085a4d-969b-450b-b3d2-b9eb747d923b",
   "metadata": {},
   "outputs": [],
   "source": [
    "#ans:6=\n",
    "# Open file in write mode\n",
    "file = open(\"example.txt\", \"w\")\n",
    "\n",
    "# Write string to file\n",
    "file.write(\"Hello, World!\")\n",
    "\n",
    "# Close file\n",
    "file.close()\n",
    "# Open file in write mode\n",
    "file = open(\"example.txt\", \"w\")\n",
    "\n",
    "# Write list of strings to file\n",
    "lines = [\"Hello\", \"World\", \"How are you?\"]\n",
    "file.writelines(lines)\n",
    "\n",
    "# Close file\n",
    "file.close()\n"
   ]
  }
 ],
 "metadata": {
  "kernelspec": {
   "display_name": "Python 3 (ipykernel)",
   "language": "python",
   "name": "python3"
  },
  "language_info": {
   "codemirror_mode": {
    "name": "ipython",
    "version": 3
   },
   "file_extension": ".py",
   "mimetype": "text/x-python",
   "name": "python",
   "nbconvert_exporter": "python",
   "pygments_lexer": "ipython3",
   "version": "3.10.8"
  }
 },
 "nbformat": 4,
 "nbformat_minor": 5
}
